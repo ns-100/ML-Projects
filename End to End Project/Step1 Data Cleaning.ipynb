{
 "cells": [
  {
   "cell_type": "markdown",
   "metadata": {},
   "source": [
    "Lending Club releases data for all of the approved and declined loan applications periodically on their [website](https://www.lendingclub.com/info/download-data.action). Different year ranges can be selected to download the datasets (in CSV format) for both approved and declined loans.\n",
    "\n",
    "The LoanStats sheet describes the approved loans datasets and the RejectStats describes the rejected loans datasets. Since rejected applications don't appear on the Lending Club marketplace and aren't available for investment, we'll be focusing on data on approved loans only.\n",
    "\n",
    "**GOAL - Can we build a machine learning model that can accurately predict if a borrower will pay off their loan on time or not?**"
   ]
  },
  {
   "cell_type": "markdown",
   "metadata": {},
   "source": [
    "We will focus on data for approved loans from 2007 to 2011, since a good number of the loans have already been paid off. In the datasets for later years, many of the loans are current and still being paid off.\n",
    "\n",
    "We reduced the size of LoanStats3a.csv by:\n",
    "removing the first line, because it contains the extraneous text Notes offered by Prospectus (https://www.lendingclub.com/info/prospectus.action) instead of the column titles, which prevents the dataset from being parsed by the pandas library properly  \n",
    "removing the desc column, which contains a long text explanation for each loan  \n",
    "removing the url column, which contains a link to each loan on Lending Club which can only be accessed with an investor account  \n",
    "removing all columns containing more than 50% missing values, which allows us to move faster since we can spend less time trying to fill these values\n",
    "\n",
    "and named the filtered dataset loans_2007.csv"
   ]
  },
  {
   "cell_type": "code",
   "execution_count": 1,
   "metadata": {
    "scrolled": true
   },
   "outputs": [
    {
     "name": "stdout",
     "output_type": "stream",
     "text": [
      "(42536, 52)\n"
     ]
    },
    {
     "name": "stderr",
     "output_type": "stream",
     "text": [
      "C:\\Users\\NS-PC\\Anaconda3\\lib\\site-packages\\IPython\\core\\interactiveshell.py:2785: DtypeWarning: Columns (0) have mixed types. Specify dtype option on import or set low_memory=False.\n",
      "  interactivity=interactivity, compiler=compiler, result=result)\n"
     ]
    },
    {
     "data": {
      "text/html": [
       "<div>\n",
       "<style scoped>\n",
       "    .dataframe tbody tr th:only-of-type {\n",
       "        vertical-align: middle;\n",
       "    }\n",
       "\n",
       "    .dataframe tbody tr th {\n",
       "        vertical-align: top;\n",
       "    }\n",
       "\n",
       "    .dataframe thead th {\n",
       "        text-align: right;\n",
       "    }\n",
       "</style>\n",
       "<table border=\"1\" class=\"dataframe\">\n",
       "  <thead>\n",
       "    <tr style=\"text-align: right;\">\n",
       "      <th></th>\n",
       "      <th>id</th>\n",
       "      <th>member_id</th>\n",
       "      <th>loan_amnt</th>\n",
       "      <th>funded_amnt</th>\n",
       "      <th>funded_amnt_inv</th>\n",
       "      <th>term</th>\n",
       "      <th>int_rate</th>\n",
       "      <th>installment</th>\n",
       "      <th>grade</th>\n",
       "      <th>sub_grade</th>\n",
       "      <th>...</th>\n",
       "      <th>last_pymnt_amnt</th>\n",
       "      <th>last_credit_pull_d</th>\n",
       "      <th>collections_12_mths_ex_med</th>\n",
       "      <th>policy_code</th>\n",
       "      <th>application_type</th>\n",
       "      <th>acc_now_delinq</th>\n",
       "      <th>chargeoff_within_12_mths</th>\n",
       "      <th>delinq_amnt</th>\n",
       "      <th>pub_rec_bankruptcies</th>\n",
       "      <th>tax_liens</th>\n",
       "    </tr>\n",
       "  </thead>\n",
       "  <tbody>\n",
       "    <tr>\n",
       "      <th>0</th>\n",
       "      <td>1077501</td>\n",
       "      <td>1296599.0</td>\n",
       "      <td>5000.0</td>\n",
       "      <td>5000.0</td>\n",
       "      <td>4975.0</td>\n",
       "      <td>36 months</td>\n",
       "      <td>10.65%</td>\n",
       "      <td>162.87</td>\n",
       "      <td>B</td>\n",
       "      <td>B2</td>\n",
       "      <td>...</td>\n",
       "      <td>171.62</td>\n",
       "      <td>Jun-16</td>\n",
       "      <td>0.0</td>\n",
       "      <td>1.0</td>\n",
       "      <td>INDIVIDUAL</td>\n",
       "      <td>0.0</td>\n",
       "      <td>0.0</td>\n",
       "      <td>0.0</td>\n",
       "      <td>0.0</td>\n",
       "      <td>0.0</td>\n",
       "    </tr>\n",
       "    <tr>\n",
       "      <th>1</th>\n",
       "      <td>1077430</td>\n",
       "      <td>1314167.0</td>\n",
       "      <td>2500.0</td>\n",
       "      <td>2500.0</td>\n",
       "      <td>2500.0</td>\n",
       "      <td>60 months</td>\n",
       "      <td>15.27%</td>\n",
       "      <td>59.83</td>\n",
       "      <td>C</td>\n",
       "      <td>C4</td>\n",
       "      <td>...</td>\n",
       "      <td>119.66</td>\n",
       "      <td>Sep-13</td>\n",
       "      <td>0.0</td>\n",
       "      <td>1.0</td>\n",
       "      <td>INDIVIDUAL</td>\n",
       "      <td>0.0</td>\n",
       "      <td>0.0</td>\n",
       "      <td>0.0</td>\n",
       "      <td>0.0</td>\n",
       "      <td>0.0</td>\n",
       "    </tr>\n",
       "    <tr>\n",
       "      <th>2</th>\n",
       "      <td>1077175</td>\n",
       "      <td>1313524.0</td>\n",
       "      <td>2400.0</td>\n",
       "      <td>2400.0</td>\n",
       "      <td>2400.0</td>\n",
       "      <td>36 months</td>\n",
       "      <td>15.96%</td>\n",
       "      <td>84.33</td>\n",
       "      <td>C</td>\n",
       "      <td>C5</td>\n",
       "      <td>...</td>\n",
       "      <td>649.91</td>\n",
       "      <td>Jun-16</td>\n",
       "      <td>0.0</td>\n",
       "      <td>1.0</td>\n",
       "      <td>INDIVIDUAL</td>\n",
       "      <td>0.0</td>\n",
       "      <td>0.0</td>\n",
       "      <td>0.0</td>\n",
       "      <td>0.0</td>\n",
       "      <td>0.0</td>\n",
       "    </tr>\n",
       "    <tr>\n",
       "      <th>3</th>\n",
       "      <td>1076863</td>\n",
       "      <td>1277178.0</td>\n",
       "      <td>10000.0</td>\n",
       "      <td>10000.0</td>\n",
       "      <td>10000.0</td>\n",
       "      <td>36 months</td>\n",
       "      <td>13.49%</td>\n",
       "      <td>339.31</td>\n",
       "      <td>C</td>\n",
       "      <td>C1</td>\n",
       "      <td>...</td>\n",
       "      <td>357.48</td>\n",
       "      <td>Apr-16</td>\n",
       "      <td>0.0</td>\n",
       "      <td>1.0</td>\n",
       "      <td>INDIVIDUAL</td>\n",
       "      <td>0.0</td>\n",
       "      <td>0.0</td>\n",
       "      <td>0.0</td>\n",
       "      <td>0.0</td>\n",
       "      <td>0.0</td>\n",
       "    </tr>\n",
       "    <tr>\n",
       "      <th>4</th>\n",
       "      <td>1075358</td>\n",
       "      <td>1311748.0</td>\n",
       "      <td>3000.0</td>\n",
       "      <td>3000.0</td>\n",
       "      <td>3000.0</td>\n",
       "      <td>60 months</td>\n",
       "      <td>12.69%</td>\n",
       "      <td>67.79</td>\n",
       "      <td>B</td>\n",
       "      <td>B5</td>\n",
       "      <td>...</td>\n",
       "      <td>67.79</td>\n",
       "      <td>Jun-16</td>\n",
       "      <td>0.0</td>\n",
       "      <td>1.0</td>\n",
       "      <td>INDIVIDUAL</td>\n",
       "      <td>0.0</td>\n",
       "      <td>0.0</td>\n",
       "      <td>0.0</td>\n",
       "      <td>0.0</td>\n",
       "      <td>0.0</td>\n",
       "    </tr>\n",
       "  </tbody>\n",
       "</table>\n",
       "<p>5 rows × 52 columns</p>\n",
       "</div>"
      ],
      "text/plain": [
       "        id  member_id  loan_amnt  funded_amnt  funded_amnt_inv        term  \\\n",
       "0  1077501  1296599.0     5000.0       5000.0           4975.0   36 months   \n",
       "1  1077430  1314167.0     2500.0       2500.0           2500.0   60 months   \n",
       "2  1077175  1313524.0     2400.0       2400.0           2400.0   36 months   \n",
       "3  1076863  1277178.0    10000.0      10000.0          10000.0   36 months   \n",
       "4  1075358  1311748.0     3000.0       3000.0           3000.0   60 months   \n",
       "\n",
       "  int_rate  installment grade sub_grade    ...    last_pymnt_amnt  \\\n",
       "0   10.65%       162.87     B        B2    ...             171.62   \n",
       "1   15.27%        59.83     C        C4    ...             119.66   \n",
       "2   15.96%        84.33     C        C5    ...             649.91   \n",
       "3   13.49%       339.31     C        C1    ...             357.48   \n",
       "4   12.69%        67.79     B        B5    ...              67.79   \n",
       "\n",
       "  last_credit_pull_d collections_12_mths_ex_med  policy_code application_type  \\\n",
       "0             Jun-16                        0.0          1.0       INDIVIDUAL   \n",
       "1             Sep-13                        0.0          1.0       INDIVIDUAL   \n",
       "2             Jun-16                        0.0          1.0       INDIVIDUAL   \n",
       "3             Apr-16                        0.0          1.0       INDIVIDUAL   \n",
       "4             Jun-16                        0.0          1.0       INDIVIDUAL   \n",
       "\n",
       "  acc_now_delinq chargeoff_within_12_mths delinq_amnt pub_rec_bankruptcies  \\\n",
       "0            0.0                      0.0         0.0                  0.0   \n",
       "1            0.0                      0.0         0.0                  0.0   \n",
       "2            0.0                      0.0         0.0                  0.0   \n",
       "3            0.0                      0.0         0.0                  0.0   \n",
       "4            0.0                      0.0         0.0                  0.0   \n",
       "\n",
       "  tax_liens  \n",
       "0       0.0  \n",
       "1       0.0  \n",
       "2       0.0  \n",
       "3       0.0  \n",
       "4       0.0  \n",
       "\n",
       "[5 rows x 52 columns]"
      ]
     },
     "execution_count": 1,
     "metadata": {},
     "output_type": "execute_result"
    }
   ],
   "source": [
    "import pandas as pd\n",
    "import numpy as np\n",
    "\n",
    "# the instructions to clean original dataset did not work so downloaded the csv from the mission and deleted last 2 lines which had some descr stats\n",
    "loans_2007 = pd.read_csv('loans_2007.csv')\n",
    "print(loans_2007.shape)\n",
    "loans_2007.head()"
   ]
  },
  {
   "cell_type": "code",
   "execution_count": 2,
   "metadata": {},
   "outputs": [
    {
     "name": "stdout",
     "output_type": "stream",
     "text": [
      "<class 'pandas.core.frame.DataFrame'>\n",
      "RangeIndex: 42536 entries, 0 to 42535\n",
      "Data columns (total 52 columns):\n",
      "id                            42536 non-null object\n",
      "member_id                     42535 non-null float64\n",
      "loan_amnt                     42535 non-null float64\n",
      "funded_amnt                   42535 non-null float64\n",
      "funded_amnt_inv               42535 non-null float64\n",
      "term                          42535 non-null object\n",
      "int_rate                      42535 non-null object\n",
      "installment                   42535 non-null float64\n",
      "grade                         42535 non-null object\n",
      "sub_grade                     42535 non-null object\n",
      "emp_title                     39909 non-null object\n",
      "emp_length                    41423 non-null object\n",
      "home_ownership                42535 non-null object\n",
      "annual_inc                    42531 non-null float64\n",
      "verification_status           42535 non-null object\n",
      "issue_d                       42535 non-null object\n",
      "loan_status                   42535 non-null object\n",
      "pymnt_plan                    42535 non-null object\n",
      "purpose                       42535 non-null object\n",
      "title                         42522 non-null object\n",
      "zip_code                      42535 non-null object\n",
      "addr_state                    42535 non-null object\n",
      "dti                           42535 non-null float64\n",
      "delinq_2yrs                   42506 non-null float64\n",
      "earliest_cr_line              42506 non-null object\n",
      "inq_last_6mths                42506 non-null float64\n",
      "open_acc                      42506 non-null float64\n",
      "pub_rec                       42506 non-null float64\n",
      "revol_bal                     42535 non-null float64\n",
      "revol_util                    42445 non-null object\n",
      "total_acc                     42506 non-null float64\n",
      "initial_list_status           42535 non-null object\n",
      "out_prncp                     42535 non-null float64\n",
      "out_prncp_inv                 42535 non-null float64\n",
      "total_pymnt                   42535 non-null float64\n",
      "total_pymnt_inv               42535 non-null float64\n",
      "total_rec_prncp               42535 non-null float64\n",
      "total_rec_int                 42535 non-null float64\n",
      "total_rec_late_fee            42535 non-null float64\n",
      "recoveries                    42535 non-null float64\n",
      "collection_recovery_fee       42535 non-null float64\n",
      "last_pymnt_d                  42452 non-null object\n",
      "last_pymnt_amnt               42535 non-null float64\n",
      "last_credit_pull_d            42531 non-null object\n",
      "collections_12_mths_ex_med    42390 non-null float64\n",
      "policy_code                   42535 non-null float64\n",
      "application_type              42535 non-null object\n",
      "acc_now_delinq                42506 non-null float64\n",
      "chargeoff_within_12_mths      42390 non-null float64\n",
      "delinq_amnt                   42506 non-null float64\n",
      "pub_rec_bankruptcies          41170 non-null float64\n",
      "tax_liens                     42430 non-null float64\n",
      "dtypes: float64(30), object(22)\n",
      "memory usage: 16.9+ MB\n"
     ]
    }
   ],
   "source": [
    "loans_2007.info()"
   ]
  },
  {
   "cell_type": "markdown",
   "metadata": {},
   "source": [
    "The Dataframe contains many columns and it can be cumbersome to explore it all at once. Let's break up the columns into 3 groups of 18 columns and use the data dictionary to become familiar with what each column represents. \n",
    "\n",
    "We want to pay attention to any features that:\n",
    "* leak information from the future (after the loan has already been funded)\n",
    "* don't affect a borrower's ability to pay back a loan (e.g. a randomly generated ID value by Lending Club)\n",
    "* formatted poorly and need to be cleaned up\n",
    "* require more data or a lot of processing to turn into a useful feature\n",
    "* contain redundant information\n",
    "\n",
    "We need to especially pay attention to data leakage, since it can cause our model to overfit. This is because the model would be using data about the target column that wouldn't be available when we're using the model on future loans."
   ]
  },
  {
   "cell_type": "markdown",
   "metadata": {},
   "source": [
    "# Dropping columns"
   ]
  },
  {
   "cell_type": "code",
   "execution_count": 3,
   "metadata": {},
   "outputs": [
    {
     "name": "stdout",
     "output_type": "stream",
     "text": [
      "(42536, 44)\n"
     ]
    }
   ],
   "source": [
    "# 1st set of cols to drop\n",
    "loans_2007 = loans_2007.drop(['id','member_id','funded_amnt','funded_amnt_inv','grade','sub_grade','emp_title','issue_d'],axis=1)\n",
    "print(loans_2007.shape)"
   ]
  },
  {
   "cell_type": "code",
   "execution_count": 4,
   "metadata": {},
   "outputs": [
    {
     "name": "stdout",
     "output_type": "stream",
     "text": [
      "(42536, 38)\n"
     ]
    }
   ],
   "source": [
    "# 2nd set of cols to drop\n",
    "loans_2007 = loans_2007.drop(['zip_code','out_prncp','out_prncp_inv','total_pymnt','total_pymnt_inv','total_rec_prncp'],axis=1)\n",
    "print(loans_2007.shape)"
   ]
  },
  {
   "cell_type": "code",
   "execution_count": 5,
   "metadata": {},
   "outputs": [
    {
     "name": "stdout",
     "output_type": "stream",
     "text": [
      "(42536, 32)\n"
     ]
    }
   ],
   "source": [
    "# 3rd set of cols to drop\n",
    "loans_2007 = loans_2007.drop(['total_rec_int','total_rec_late_fee','recoveries','collection_recovery_fee','last_pymnt_d','last_pymnt_amnt'],axis=1)\n",
    "print(loans_2007.shape)"
   ]
  },
  {
   "cell_type": "markdown",
   "metadata": {},
   "source": [
    "# Target column\n",
    "\n",
    "We should use the **loan_status column**, since it's the only column that directly describes if a loan was paid off on time, had delayed payments, or was defaulted on the borrower. Currently, this column contains text values and we need to convert it to a numerical one for training a model.  \n",
    "\n",
    "Let's explore the different values in this column and come up with a strategy for converting the values in this column."
   ]
  },
  {
   "cell_type": "code",
   "execution_count": 6,
   "metadata": {},
   "outputs": [
    {
     "data": {
      "text/plain": [
       "NaN                                                        1\n",
       "Default                                                    3\n",
       "Late (16-30 days)                                          8\n",
       "In Grace Period                                           20\n",
       "Late (31-120 days)                                        24\n",
       "Does not meet the credit policy. Status:Charged Off      761\n",
       "Current                                                  961\n",
       "Does not meet the credit policy. Status:Fully Paid      1988\n",
       "Charged Off                                             5634\n",
       "Fully Paid                                             33136\n",
       "Name: loan_status, dtype: int64"
      ]
     },
     "execution_count": 6,
     "metadata": {},
     "output_type": "execute_result"
    }
   ],
   "source": [
    "loans_2007['loan_status'].value_counts(dropna=False).sort_values()"
   ]
  },
  {
   "cell_type": "markdown",
   "metadata": {},
   "source": [
    "| Loan Status                                         | Count | Meaning                                                                                                                                           |\n",
    "|-----------------------------------------------------|-------|---------------------------------------------------------------------------------------------------------------------------------------------------|\n",
    "| Fully Paid                                          | 33136 | Loan has been fully paid off.                                                                                                                     |\n",
    "| Charged Off                                         | 5634  | Loan for which there is no longer a reasonable expectation of further payments.                                                                   |\n",
    "| Does not meet the credit policy. Status:Fully Paid  | 1988  | While the loan was paid off, the loan application today would no longer meet the credit policy and wouldn't be approved on to the marketplace.    |\n",
    "| Does not meet the credit policy. Status:Charged Off | 761   | While the loan was charged off, the loan application today would no longer meet the credit policy and wouldn't be approved on to the marketplace. |\n",
    "| In Grace Period                                     | 20    | The loan is past due but still in the grace period of 15 days.                                                                                    |\n",
    "| Late (16-30 days)                                   | 8     | Loan hasn't been paid in 16 to 30 days (late on the current payment).                                                                             |\n",
    "| Late (31-120 days)                                  | 24    | Loan hasn't been paid in 31 to 120 days (late on the current payment).                                                                            |\n",
    "| Current                                             | 961   | Loan is up to date on current payments.                                                                                                           |\n",
    "| Default                                             | 3     | Loan is defaulted on and no payment has been made for more than 121 days.                                                                         |"
   ]
  },
  {
   "cell_type": "markdown",
   "metadata": {},
   "source": [
    "From the investor's perspective, we're interested in trying to predict which loans will be paid off on time and which ones won't. **Only the Fully Paid and Charged Off values describe the final outcome of the loan.** The other values describe loans that are still being pain and whetherthe borrower will pay back the loan on time or not. While the Default status resembles the Charged Off status, for Lending Club's, loans that are charged off have essentially no chance of being repaid while default ones have a small chance. \n",
    "\n",
    "Since we're interested in being able to predict which of these 2 values a loan will fall under, we can treat the problem as a binary classification one. \n",
    "Let's remove all the loans that don't contain either Fully Paid and Charged Off as the loan's status and then transform the Fully Paid values to 1 for the positive case and the Charged Off values to 0 for the negative case. \n",
    "\n",
    "We also need to keep in mind **class imbalance** between the positive and negative cases. While there are 33,136 loans that have been fully paid off, there are only 5,634 that were charged off. This class imbalance is a common problem in binary classification and during training, the model ends up having a strong bias towards predicting the class with more observations in the training set and will rarely predict the class with less observations. The stronger the imbalance, the more biased the model becomes. We will explore this later."
   ]
  },
  {
   "cell_type": "markdown",
   "metadata": {},
   "source": [
    "# Binary Classification"
   ]
  },
  {
   "cell_type": "markdown",
   "metadata": {},
   "source": [
    "* Remove all rows from loans_2007 that contain values other than Fully Paid or Charged Off for the loan_status column.\n",
    "* Replace:\n",
    "  * Fully Paid with 1\n",
    "  * Charged Off with 0"
   ]
  },
  {
   "cell_type": "code",
   "execution_count": 7,
   "metadata": {},
   "outputs": [],
   "source": [
    "loans_2007 = loans_2007[(loans_2007['loan_status'] == 'Fully Paid') | (loans_2007['loan_status'] == 'Charged Off')]\n",
    "status_replace = {\n",
    "    \"loan_status\" : {\n",
    "        \"Fully Paid\": 1,\n",
    "        \"Charged Off\": 0,\n",
    "    }\n",
    "}\n",
    "\n",
    "loans_2007 = loans_2007.replace(status_replace) "
   ]
  },
  {
   "cell_type": "markdown",
   "metadata": {},
   "source": [
    "# Removing single value columns"
   ]
  },
  {
   "cell_type": "code",
   "execution_count": 8,
   "metadata": {},
   "outputs": [
    {
     "name": "stdout",
     "output_type": "stream",
     "text": [
      "['pymnt_plan', 'initial_list_status', 'collections_12_mths_ex_med', 'policy_code', 'application_type', 'acc_now_delinq', 'chargeoff_within_12_mths', 'delinq_amnt', 'tax_liens']\n"
     ]
    }
   ],
   "source": [
    "orig_columns = loans_2007.columns\n",
    "drop_columns = []\n",
    "for col in orig_columns:\n",
    "    col_series = loans_2007[col].dropna().unique()\n",
    "    if len(col_series) == 1:\n",
    "        drop_columns.append(col)\n",
    "loans_2007 = loans_2007.drop(drop_columns, axis=1)\n",
    "print(drop_columns)"
   ]
  }
 ],
 "metadata": {
  "kernelspec": {
   "display_name": "Python 3",
   "language": "python",
   "name": "python3"
  },
  "language_info": {
   "codemirror_mode": {
    "name": "ipython",
    "version": 3
   },
   "file_extension": ".py",
   "mimetype": "text/x-python",
   "name": "python",
   "nbconvert_exporter": "python",
   "pygments_lexer": "ipython3",
   "version": "3.6.5"
  }
 },
 "nbformat": 4,
 "nbformat_minor": 2
}
