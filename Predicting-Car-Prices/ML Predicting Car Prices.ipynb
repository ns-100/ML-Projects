{
 "cells": [
  {
   "cell_type": "markdown",
   "metadata": {},
   "source": [
    "The data set we will be working with contains information on various cars. For each car we have information about the technical aspects of the vehicle such as the motor's displacement, the weight of the car, the miles per gallon, how fast the car accelerates, and more. You can read more about the data set [here](https://archive.ics.uci.edu/ml/datasets/automobile)."
   ]
  },
  {
   "cell_type": "code",
   "execution_count": 32,
   "metadata": {},
   "outputs": [
    {
     "data": {
      "text/html": [
       "<div>\n",
       "<style scoped>\n",
       "    .dataframe tbody tr th:only-of-type {\n",
       "        vertical-align: middle;\n",
       "    }\n",
       "\n",
       "    .dataframe tbody tr th {\n",
       "        vertical-align: top;\n",
       "    }\n",
       "\n",
       "    .dataframe thead th {\n",
       "        text-align: right;\n",
       "    }\n",
       "</style>\n",
       "<table border=\"1\" class=\"dataframe\">\n",
       "  <thead>\n",
       "    <tr style=\"text-align: right;\">\n",
       "      <th></th>\n",
       "      <th>symboling</th>\n",
       "      <th>normalized-losses</th>\n",
       "      <th>make</th>\n",
       "      <th>fuel-type</th>\n",
       "      <th>aspiration</th>\n",
       "      <th>num-of-doors</th>\n",
       "      <th>body-style</th>\n",
       "      <th>drive-wheels</th>\n",
       "      <th>engine-location</th>\n",
       "      <th>wheel-base</th>\n",
       "      <th>length</th>\n",
       "      <th>width</th>\n",
       "      <th>height</th>\n",
       "      <th>curb-weight</th>\n",
       "      <th>engine-type</th>\n",
       "      <th>num-of-cylinders</th>\n",
       "      <th>engine-size</th>\n",
       "      <th>fuel-system</th>\n",
       "      <th>bore</th>\n",
       "      <th>stroke</th>\n",
       "      <th>compression-rate</th>\n",
       "      <th>horsepower</th>\n",
       "      <th>peak-rpm</th>\n",
       "      <th>city-mpg</th>\n",
       "      <th>highway-mpg</th>\n",
       "      <th>price</th>\n",
       "    </tr>\n",
       "  </thead>\n",
       "  <tbody>\n",
       "    <tr>\n",
       "      <th>200</th>\n",
       "      <td>-1</td>\n",
       "      <td>95</td>\n",
       "      <td>volvo</td>\n",
       "      <td>gas</td>\n",
       "      <td>std</td>\n",
       "      <td>four</td>\n",
       "      <td>sedan</td>\n",
       "      <td>rwd</td>\n",
       "      <td>front</td>\n",
       "      <td>109.1</td>\n",
       "      <td>188.8</td>\n",
       "      <td>68.9</td>\n",
       "      <td>55.5</td>\n",
       "      <td>2952</td>\n",
       "      <td>ohc</td>\n",
       "      <td>four</td>\n",
       "      <td>141</td>\n",
       "      <td>mpfi</td>\n",
       "      <td>3.78</td>\n",
       "      <td>3.15</td>\n",
       "      <td>9.5</td>\n",
       "      <td>114</td>\n",
       "      <td>5400</td>\n",
       "      <td>23</td>\n",
       "      <td>28</td>\n",
       "      <td>16845</td>\n",
       "    </tr>\n",
       "    <tr>\n",
       "      <th>201</th>\n",
       "      <td>-1</td>\n",
       "      <td>95</td>\n",
       "      <td>volvo</td>\n",
       "      <td>gas</td>\n",
       "      <td>turbo</td>\n",
       "      <td>four</td>\n",
       "      <td>sedan</td>\n",
       "      <td>rwd</td>\n",
       "      <td>front</td>\n",
       "      <td>109.1</td>\n",
       "      <td>188.8</td>\n",
       "      <td>68.8</td>\n",
       "      <td>55.5</td>\n",
       "      <td>3049</td>\n",
       "      <td>ohc</td>\n",
       "      <td>four</td>\n",
       "      <td>141</td>\n",
       "      <td>mpfi</td>\n",
       "      <td>3.78</td>\n",
       "      <td>3.15</td>\n",
       "      <td>8.7</td>\n",
       "      <td>160</td>\n",
       "      <td>5300</td>\n",
       "      <td>19</td>\n",
       "      <td>25</td>\n",
       "      <td>19045</td>\n",
       "    </tr>\n",
       "    <tr>\n",
       "      <th>202</th>\n",
       "      <td>-1</td>\n",
       "      <td>95</td>\n",
       "      <td>volvo</td>\n",
       "      <td>gas</td>\n",
       "      <td>std</td>\n",
       "      <td>four</td>\n",
       "      <td>sedan</td>\n",
       "      <td>rwd</td>\n",
       "      <td>front</td>\n",
       "      <td>109.1</td>\n",
       "      <td>188.8</td>\n",
       "      <td>68.9</td>\n",
       "      <td>55.5</td>\n",
       "      <td>3012</td>\n",
       "      <td>ohcv</td>\n",
       "      <td>six</td>\n",
       "      <td>173</td>\n",
       "      <td>mpfi</td>\n",
       "      <td>3.58</td>\n",
       "      <td>2.87</td>\n",
       "      <td>8.8</td>\n",
       "      <td>134</td>\n",
       "      <td>5500</td>\n",
       "      <td>18</td>\n",
       "      <td>23</td>\n",
       "      <td>21485</td>\n",
       "    </tr>\n",
       "    <tr>\n",
       "      <th>203</th>\n",
       "      <td>-1</td>\n",
       "      <td>95</td>\n",
       "      <td>volvo</td>\n",
       "      <td>diesel</td>\n",
       "      <td>turbo</td>\n",
       "      <td>four</td>\n",
       "      <td>sedan</td>\n",
       "      <td>rwd</td>\n",
       "      <td>front</td>\n",
       "      <td>109.1</td>\n",
       "      <td>188.8</td>\n",
       "      <td>68.9</td>\n",
       "      <td>55.5</td>\n",
       "      <td>3217</td>\n",
       "      <td>ohc</td>\n",
       "      <td>six</td>\n",
       "      <td>145</td>\n",
       "      <td>idi</td>\n",
       "      <td>3.01</td>\n",
       "      <td>3.40</td>\n",
       "      <td>23.0</td>\n",
       "      <td>106</td>\n",
       "      <td>4800</td>\n",
       "      <td>26</td>\n",
       "      <td>27</td>\n",
       "      <td>22470</td>\n",
       "    </tr>\n",
       "    <tr>\n",
       "      <th>204</th>\n",
       "      <td>-1</td>\n",
       "      <td>95</td>\n",
       "      <td>volvo</td>\n",
       "      <td>gas</td>\n",
       "      <td>turbo</td>\n",
       "      <td>four</td>\n",
       "      <td>sedan</td>\n",
       "      <td>rwd</td>\n",
       "      <td>front</td>\n",
       "      <td>109.1</td>\n",
       "      <td>188.8</td>\n",
       "      <td>68.9</td>\n",
       "      <td>55.5</td>\n",
       "      <td>3062</td>\n",
       "      <td>ohc</td>\n",
       "      <td>four</td>\n",
       "      <td>141</td>\n",
       "      <td>mpfi</td>\n",
       "      <td>3.78</td>\n",
       "      <td>3.15</td>\n",
       "      <td>9.5</td>\n",
       "      <td>114</td>\n",
       "      <td>5400</td>\n",
       "      <td>19</td>\n",
       "      <td>25</td>\n",
       "      <td>22625</td>\n",
       "    </tr>\n",
       "  </tbody>\n",
       "</table>\n",
       "</div>"
      ],
      "text/plain": [
       "     symboling normalized-losses   make fuel-type aspiration num-of-doors  \\\n",
       "200         -1                95  volvo       gas        std         four   \n",
       "201         -1                95  volvo       gas      turbo         four   \n",
       "202         -1                95  volvo       gas        std         four   \n",
       "203         -1                95  volvo    diesel      turbo         four   \n",
       "204         -1                95  volvo       gas      turbo         four   \n",
       "\n",
       "    body-style drive-wheels engine-location  wheel-base  length  width  \\\n",
       "200      sedan          rwd           front       109.1   188.8   68.9   \n",
       "201      sedan          rwd           front       109.1   188.8   68.8   \n",
       "202      sedan          rwd           front       109.1   188.8   68.9   \n",
       "203      sedan          rwd           front       109.1   188.8   68.9   \n",
       "204      sedan          rwd           front       109.1   188.8   68.9   \n",
       "\n",
       "     height  curb-weight engine-type num-of-cylinders  engine-size  \\\n",
       "200    55.5         2952         ohc             four          141   \n",
       "201    55.5         3049         ohc             four          141   \n",
       "202    55.5         3012        ohcv              six          173   \n",
       "203    55.5         3217         ohc              six          145   \n",
       "204    55.5         3062         ohc             four          141   \n",
       "\n",
       "    fuel-system  bore stroke  compression-rate horsepower peak-rpm  city-mpg  \\\n",
       "200        mpfi  3.78   3.15               9.5        114     5400        23   \n",
       "201        mpfi  3.78   3.15               8.7        160     5300        19   \n",
       "202        mpfi  3.58   2.87               8.8        134     5500        18   \n",
       "203         idi  3.01   3.40              23.0        106     4800        26   \n",
       "204        mpfi  3.78   3.15               9.5        114     5400        19   \n",
       "\n",
       "     highway-mpg  price  \n",
       "200           28  16845  \n",
       "201           25  19045  \n",
       "202           23  21485  \n",
       "203           27  22470  \n",
       "204           25  22625  "
      ]
     },
     "execution_count": 32,
     "metadata": {},
     "output_type": "execute_result"
    }
   ],
   "source": [
    "import pandas as pd\n",
    "\n",
    "cols = ['symboling', 'normalized-losses', 'make', 'fuel-type', 'aspiration', 'num-of-doors', 'body-style', \n",
    "        'drive-wheels', 'engine-location', 'wheel-base', 'length', 'width', 'height', 'curb-weight', 'engine-type', \n",
    "        'num-of-cylinders', 'engine-size', 'fuel-system', 'bore', 'stroke', 'compression-rate', 'horsepower',\n",
    "        'peak-rpm', 'city-mpg', 'highway-mpg', 'price']\n",
    "cars = pd.read_csv('imports-85.data', names=cols)\n",
    "pd.options.display.max_columns = 99\n",
    "cars.tail()"
   ]
  },
  {
   "cell_type": "code",
   "execution_count": 33,
   "metadata": {},
   "outputs": [],
   "source": [
    "# Determine which columns are numeric (and continuous) and can be used as features and \n",
    "# which column is the target column.\n",
    "num_cols = ['normalized-losses','wheel-base','length','width','height','curb-weight','bore',\n",
    "            'stroke','compression-rate','horsepower','peak-rpm','city-mpg','highway-mpg','price']\n",
    "numeric_cars = cars[num_cols]"
   ]
  },
  {
   "cell_type": "markdown",
   "metadata": {},
   "source": [
    "# Analyze the data\n",
    "\n",
    "We usually can't have any missing values if we want to use them for predictive modeling. Based on the data set preview from the last step, we can tell that the normalized-losses column contains missing values represented using \"?\". Let's replace these values and look for the presence of missing values in other numeric columns. **Let's also rescale the values in the numeric columns so they all range from 0 to 1 using minmax scaling**"
   ]
  },
  {
   "cell_type": "code",
   "execution_count": 34,
   "metadata": {},
   "outputs": [
    {
     "data": {
      "text/plain": [
       "symboling              int64\n",
       "normalized-losses     object\n",
       "make                  object\n",
       "fuel-type             object\n",
       "aspiration            object\n",
       "num-of-doors          object\n",
       "body-style            object\n",
       "drive-wheels          object\n",
       "engine-location       object\n",
       "wheel-base           float64\n",
       "length               float64\n",
       "width                float64\n",
       "height               float64\n",
       "curb-weight            int64\n",
       "engine-type           object\n",
       "num-of-cylinders      object\n",
       "engine-size            int64\n",
       "fuel-system           object\n",
       "bore                  object\n",
       "stroke                object\n",
       "compression-rate     float64\n",
       "horsepower            object\n",
       "peak-rpm              object\n",
       "city-mpg               int64\n",
       "highway-mpg            int64\n",
       "price                 object\n",
       "dtype: object"
      ]
     },
     "execution_count": 34,
     "metadata": {},
     "output_type": "execute_result"
    }
   ],
   "source": [
    "cars.dtypes"
   ]
  },
  {
   "cell_type": "markdown",
   "metadata": {},
   "source": [
    "* Use the DataFrame.replace() method to replace all of the ? values with the numpy.nan missing value.\n",
    "* Because ? is a string value, columns containing this value were cast to the pandas object data type (instead of a numeric type like int or float). After replacing the ? values, determine which columns need to be converted to numeric types. You can use either the DataFrame.astype() or the Series.astype() methods to convert column types.\n",
    "* Return the number of rows that have a missing value for the normalized-losses column. \n",
    " * Replace the missing values using the average values from that column.\n",
    " * Drop the rows entirely (especially if other columns in those rows have missing values).\n",
    " * Drop the column entirely.\n",
    " * Explore the missing value counts for the other numeric columns and handle any missing values.\n",
    " * Of the columns you decided to keep, normalize the numeric ones so all values range from 0 to 1."
   ]
  },
  {
   "cell_type": "markdown",
   "metadata": {},
   "source": [
    "# Data cleaning"
   ]
  },
  {
   "cell_type": "code",
   "execution_count": 35,
   "metadata": {},
   "outputs": [
    {
     "data": {
      "text/plain": [
       "normalized-losses    41\n",
       "wheel-base            0\n",
       "length                0\n",
       "width                 0\n",
       "height                0\n",
       "curb-weight           0\n",
       "bore                  4\n",
       "stroke                4\n",
       "compression-rate      0\n",
       "horsepower            2\n",
       "peak-rpm              2\n",
       "city-mpg              0\n",
       "highway-mpg           0\n",
       "price                 4\n",
       "dtype: int64"
      ]
     },
     "execution_count": 35,
     "metadata": {},
     "output_type": "execute_result"
    }
   ],
   "source": [
    "import numpy as np\n",
    "\n",
    "numeric_cars = numeric_cars.replace('?',np.nan)\n",
    "numeric_cars.isnull().sum()"
   ]
  },
  {
   "cell_type": "code",
   "execution_count": 36,
   "metadata": {},
   "outputs": [
    {
     "data": {
      "text/plain": [
       "normalized-losses    37\n",
       "wheel-base            0\n",
       "length                0\n",
       "width                 0\n",
       "height                0\n",
       "curb-weight           0\n",
       "bore                  4\n",
       "stroke                4\n",
       "compression-rate      0\n",
       "horsepower            2\n",
       "peak-rpm              2\n",
       "city-mpg              0\n",
       "highway-mpg           0\n",
       "price                 0\n",
       "dtype: int64"
      ]
     },
     "execution_count": 36,
     "metadata": {},
     "output_type": "execute_result"
    }
   ],
   "source": [
    "numeric_cars = numeric_cars.astype('float')\n",
    "\n",
    "# Because `price` is the column we want to predict, let's remove any rows with missing `price` values. \n",
    "numeric_cars = numeric_cars.dropna(subset=['price'])\n",
    "numeric_cars.isnull().sum()"
   ]
  },
  {
   "cell_type": "code",
   "execution_count": 37,
   "metadata": {},
   "outputs": [
    {
     "data": {
      "text/plain": [
       "normalized-losses    float64\n",
       "wheel-base           float64\n",
       "length               float64\n",
       "width                float64\n",
       "height               float64\n",
       "curb-weight          float64\n",
       "bore                 float64\n",
       "stroke               float64\n",
       "compression-rate     float64\n",
       "horsepower           float64\n",
       "peak-rpm             float64\n",
       "city-mpg             float64\n",
       "highway-mpg          float64\n",
       "price                float64\n",
       "dtype: object"
      ]
     },
     "execution_count": 37,
     "metadata": {},
     "output_type": "execute_result"
    }
   ],
   "source": [
    "# Confirm column dtypes\n",
    "numeric_cars.dtypes"
   ]
  },
  {
   "cell_type": "code",
   "execution_count": 38,
   "metadata": {},
   "outputs": [],
   "source": [
    "# Replace missing values in other columns using column means.# Replac \n",
    "numeric_cars = numeric_cars.fillna(numeric_cars.mean())"
   ]
  },
  {
   "cell_type": "code",
   "execution_count": 39,
   "metadata": {},
   "outputs": [
    {
     "data": {
      "text/plain": [
       "normalized-losses    0\n",
       "wheel-base           0\n",
       "length               0\n",
       "width                0\n",
       "height               0\n",
       "curb-weight          0\n",
       "bore                 0\n",
       "stroke               0\n",
       "compression-rate     0\n",
       "horsepower           0\n",
       "peak-rpm             0\n",
       "city-mpg             0\n",
       "highway-mpg          0\n",
       "price                0\n",
       "dtype: int64"
      ]
     },
     "execution_count": 39,
     "metadata": {},
     "output_type": "execute_result"
    }
   ],
   "source": [
    "# Confirm that there's no more missing values!\n",
    "numeric_cars.isnull().sum()"
   ]
  },
  {
   "cell_type": "markdown",
   "metadata": {},
   "source": [
    "# Normalize numeric cols"
   ]
  },
  {
   "cell_type": "code",
   "execution_count": 40,
   "metadata": {},
   "outputs": [],
   "source": [
    "# Normalize the numeric columns using Min-Max Scaling method: the min = 0 and max = 1.\n",
    "\n",
    "# Sometimes standardadization is performed, since Z-score preserves the variance better whereas\n",
    "# Min-Max is better for preserving an absolute range. \n",
    "# Image processing uses Min-Max, for example, since the pixel # range is fixed from 0 to 255. \n",
    "# Neural networks also use Min-Max since their algorithms typically use 0-1 scales as inputs. \n",
    "# Other applications with Gaussian distributions might be better scaled with Z-score.\n",
    "\n",
    "# Normalize all columnns to range from 0 to 1 except the target column.\n",
    "price_col = numeric_cars['price']\n",
    "numeric_cars = (numeric_cars - numeric_cars.min())/(numeric_cars.max() - numeric_cars.min())\n",
    "numeric_cars['price'] = price_col"
   ]
  },
  {
   "cell_type": "markdown",
   "metadata": {},
   "source": [
    "# Start with knn model"
   ]
  },
  {
   "cell_type": "markdown",
   "metadata": {},
   "source": [
    "Let's start with some univariate k-nearest neighbors models. Starting with simple models before moving to more complex models helps us structure the code workflow and understand the features better."
   ]
  },
  {
   "cell_type": "markdown",
   "metadata": {},
   "source": [
    "Create a function, named knn_train_test() that encapsulates the training and simple validation process. This function should have 3 parameters -- training column name, target column name, and the dataframe object.\n",
    "This function should split the data set into a training and test set.\n",
    "Then, it should instantiate the KNeighborsRegressor class, fit the model on the training set, and make predictions on the test set.\n",
    "Finally, it should calculate the RMSE and return that value.\n",
    "Use this function to train and test univariate models using the different numeric columns in the data set. Which column performed the best using the default k value?"
   ]
  },
  {
   "cell_type": "markdown",
   "metadata": {},
   "source": [
    "# Univariate"
   ]
  },
  {
   "cell_type": "code",
   "execution_count": 41,
   "metadata": {},
   "outputs": [
    {
     "data": {
      "text/plain": [
       "curb-weight          3755.614849\n",
       "horsepower           4149.288150\n",
       "highway-mpg          4510.133964\n",
       "city-mpg             5190.970480\n",
       "width                5764.255609\n",
       "length               5803.647947\n",
       "bore                 6548.681850\n",
       "wheel-base           6678.319581\n",
       "compression-rate     6928.575590\n",
       "height               7424.000618\n",
       "peak-rpm             7440.099227\n",
       "stroke               8043.836062\n",
       "normalized-losses    8388.611868\n",
       "dtype: float64"
      ]
     },
     "execution_count": 41,
     "metadata": {},
     "output_type": "execute_result"
    }
   ],
   "source": [
    "from sklearn.neighbors import KNeighborsRegressor\n",
    "from sklearn.metrics import mean_squared_error\n",
    "\n",
    "def knn_train_test(train_col,target_col,df):\n",
    "    df = df.reindex(np.random.permutation(df.index))\n",
    "    train_row = len(numeric_cars)//2\n",
    "    train_df = df.iloc[:train_row].copy()\n",
    "    test_df = df.iloc[train_row:].copy()\n",
    "    knn = KNeighborsRegressor()\n",
    "    knn.fit(train_df[[train_col]],train_df[target_col])\n",
    "    test_df[\"predicted_price\"]=knn.predict(test_df[[train_col]])\n",
    "    rmse = mean_squared_error(test_df[\"predicted_price\"],test_df[\"price\"])**(1/2)\n",
    "    return rmse\n",
    "\n",
    "rmse_results = {}\n",
    "train_cols = numeric_cars.columns.drop('price')\n",
    "\n",
    "for col in train_cols:\n",
    "    rmse_results[col] = knn_train_test(col,'price',numeric_cars)\n",
    "    \n",
    "# Create a Series object from the dictionary so we can easily view the results, sort, etc.\n",
    "rmse_results_series = pd.Series(rmse_results)\n",
    "rmse_results_series.sort_values() "
   ]
  },
  {
   "cell_type": "markdown",
   "metadata": {},
   "source": [
    "# Univariate with varing k-value"
   ]
  },
  {
   "cell_type": "markdown",
   "metadata": {},
   "source": [
    "Modify the knn_train_test() function to accept a parameter for the k value.\n",
    " * Update the function logic to use this parameter.\n",
    " * For each numeric column, create, train, and test a univariate model using the following k values (1, 3, 5, 7, and 9).  "
   ]
  },
  {
   "cell_type": "code",
   "execution_count": 43,
   "metadata": {},
   "outputs": [
    {
     "data": {
      "text/plain": [
       "{'normalized-losses': {1: 10213.327520431525,\n",
       "  3: 7710.4806284337519,\n",
       "  5: 7758.3704744623983,\n",
       "  7: 7483.7252544152398,\n",
       "  9: 7560.9562816272228},\n",
       " 'wheel-base': {1: 6558.81112521451,\n",
       "  3: 6893.3696345540511,\n",
       "  5: 7380.0068172444289,\n",
       "  7: 7084.0685899294913,\n",
       "  9: 7161.5343799682723},\n",
       " 'length': {1: 6741.3759253090639,\n",
       "  3: 6188.6621925722675,\n",
       "  5: 5386.4882553248435,\n",
       "  7: 5278.6955964173849,\n",
       "  9: 5483.5698231404049},\n",
       " 'width': {1: 4961.3820365772362,\n",
       "  3: 4864.4616454557445,\n",
       "  5: 5079.6988321890276,\n",
       "  7: 5177.2196664856183,\n",
       "  9: 5438.9479344842111},\n",
       " 'height': {1: 9440.0928092643644,\n",
       "  3: 8945.0622334188356,\n",
       "  5: 8804.6884470886907,\n",
       "  7: 8616.4904613349881,\n",
       "  9: 8633.7184725779098},\n",
       " 'curb-weight': {1: 5055.8169546778408,\n",
       "  3: 4213.8553710359829,\n",
       "  5: 4166.3173565209272,\n",
       "  7: 4280.9880144511872,\n",
       "  9: 4348.4070749359907},\n",
       " 'bore': {1: 7750.6058159895792,\n",
       "  3: 7741.9680801896538,\n",
       "  5: 8082.226262976099,\n",
       "  7: 7948.7484288387586,\n",
       "  9: 7789.8012075688366},\n",
       " 'stroke': {1: 6329.3125641457673,\n",
       "  3: 6843.243937049021,\n",
       "  5: 6215.5134161337473,\n",
       "  7: 6691.5215946877242,\n",
       "  9: 6745.913551354035},\n",
       " 'compression-rate': {1: 7722.613744037958,\n",
       "  3: 6415.7344594804936,\n",
       "  5: 6468.8377772912872,\n",
       "  7: 6290.2110392551504,\n",
       "  9: 6638.4319755771394},\n",
       " 'horsepower': {1: 4326.5603652392747,\n",
       "  3: 4166.8949491259928,\n",
       "  5: 4408.3487011904053,\n",
       "  7: 4533.9038324395979,\n",
       "  9: 4578.1752064550647},\n",
       " 'peak-rpm': {1: 8428.7982682897782,\n",
       "  3: 8214.3674146645226,\n",
       "  5: 7364.7251453758054,\n",
       "  7: 6739.4267553933241,\n",
       "  9: 6571.3926057850795},\n",
       " 'city-mpg': {1: 4850.0785938308909,\n",
       "  3: 4280.6289004395521,\n",
       "  5: 4399.2974611952768,\n",
       "  7: 4385.7181285545412,\n",
       "  9: 4657.7576430311419},\n",
       " 'highway-mpg': {1: 4577.9799957605928,\n",
       "  3: 4864.1566357054817,\n",
       "  5: 4422.4797126400563,\n",
       "  7: 4177.4936921059934,\n",
       "  9: 4288.3122269461182}}"
      ]
     },
     "execution_count": 43,
     "metadata": {},
     "output_type": "execute_result"
    }
   ],
   "source": [
    "def knn_train_test(train_col,target_col,df):\n",
    "    df = df.reindex(np.random.permutation(df.index))\n",
    "    train_row = len(numeric_cars)//2\n",
    "    train_df = df.iloc[:train_row].copy()\n",
    "    test_df = df.iloc[train_row:].copy()\n",
    "\n",
    "    # It is typical to use an odd number for k to avoid ties    \n",
    "    k_values = [1,3,5,7,9]\n",
    "    k_rmses = {}\n",
    "    \n",
    "    for k in k_values:\n",
    "        knn = KNeighborsRegressor(n_neighbors = k)\n",
    "        knn.fit(train_df[[train_col]],train_df[target_col])\n",
    "        test_df[\"predicted_price\"]=knn.predict(test_df[[train_col]])\n",
    "        rmse = mean_squared_error(test_df[\"predicted_price\"],test_df[\"price\"])**(1/2)\n",
    "        k_rmses[k] = rmse\n",
    "    return k_rmses\n",
    "\n",
    "k_rmse_results = {}\n",
    "\n",
    "for col in train_cols:\n",
    "    k_rmse_results[col] = knn_train_test(col,'price',numeric_cars)\n",
    "\n",
    "k_rmse_results"
   ]
  },
  {
   "cell_type": "code",
   "execution_count": 44,
   "metadata": {},
   "outputs": [
    {
     "data": {
      "text/plain": [
       "horsepower           4402.776611\n",
       "curb-weight          4413.076954\n",
       "highway-mpg          4466.084453\n",
       "city-mpg             4514.696145\n",
       "width                5104.342023\n",
       "length               5815.758359\n",
       "stroke               6565.101013\n",
       "compression-rate     6707.165799\n",
       "wheel-base           7015.558109\n",
       "peak-rpm             7463.742038\n",
       "bore                 7862.669959\n",
       "normalized-losses    8145.372032\n",
       "height               8888.010485\n",
       "dtype: float64"
      ]
     },
     "execution_count": 44,
     "metadata": {},
     "output_type": "execute_result"
    }
   ],
   "source": [
    "# Compute average RMSE across different `k` values for each feature.\n",
    "feature_avg_rmse = {}\n",
    "for k,v in k_rmse_results.items():\n",
    "    avg_rmse = np.mean(list(v.values()))\n",
    "    feature_avg_rmse[k] = avg_rmse\n",
    "series_avg_rmse = pd.Series(feature_avg_rmse)\n",
    "series_avg_rmse.sort_values()"
   ]
  },
  {
   "cell_type": "markdown",
   "metadata": {},
   "source": [
    "#  Visualize the results using a scatter plot or a line plot."
   ]
  },
  {
   "cell_type": "code",
   "execution_count": 47,
   "metadata": {},
   "outputs": [
    {
     "data": {
      "image/png": "[encoded data removed]",
      "text/plain": [
       "<Figure size 432x288 with 1 Axes>"
      ]
     },
     "metadata": {},
     "output_type": "display_data"
    }
   ],
   "source": [
    "import matplotlib.pyplot as plt\n",
    "%matplotlib inline\n",
    "\n",
    "for k,v in k_rmse_results.items():\n",
    "    x = list(v.keys())\n",
    "    y = list(v.values())\n",
    "    \n",
    "    plt.plot(x,y, label=k)\n",
    "    plt.xlabel('k value')\n",
    "    plt.ylabel('RMSE')\n",
    "    plt.legend(loc=\"upper right\")"
   ]
  },
  {
   "cell_type": "markdown",
   "metadata": {},
   "source": [
    "# Multi-variate"
   ]
  },
  {
   "cell_type": "markdown",
   "metadata": {},
   "source": [
    "* Modify the knn_train_test() function to accept a list of column names (instead of just a string). Modify the rest of the function logic to use this parameter:\n",
    "  * Instead of using just a single column for train and test, use all of the columns passed in.\n",
    "  * Use a the default k value from scikit-learn for now (we'll tune the k value in the next step).\n",
    "* Use the best 2 features from the previous step to train and test a multivariate k-nearest neighbors model using the default k value.\n",
    "* Use the best 3 features from the previous step to train and test a multivariate k-nearest neighbors model using the default k value.\n",
    "* Use the best 4 features from the previous step to train and test a multivariate k-nearest neighbors model using the default k value.\n",
    "* Use the best 5 features from the previous step to train and test a multivariate k-nearest neighbors model using the default k value.\n",
    "* Display all of the RMSE values."
   ]
  },
  {
   "cell_type": "code",
   "execution_count": 48,
   "metadata": {},
   "outputs": [
    {
     "data": {
      "text/plain": [
       "{5: 4163.8546061775669}"
      ]
     },
     "execution_count": 48,
     "metadata": {},
     "output_type": "execute_result"
    }
   ],
   "source": [
    "def knn_train_test(train_cols, target_col, df):\n",
    "    np.random.seed(1)\n",
    "    \n",
    "    # Randomize order of rows in data frame.\n",
    "    shuffled_index = np.random.permutation(df.index)\n",
    "    rand_df = df.reindex(shuffled_index)\n",
    "\n",
    "    # Divide number of rows in half and round.\n",
    "    last_train_row = int(len(rand_df) / 2)\n",
    "    \n",
    "    # Select the first half and set as training set.\n",
    "    # Select the second half and set as test set.\n",
    "    train_df = rand_df.iloc[0:last_train_row]\n",
    "    test_df = rand_df.iloc[last_train_row:]\n",
    "    \n",
    "    k_values = [5]\n",
    "    k_rmses = {}\n",
    "    \n",
    "    for k in k_values:\n",
    "        # Fit model using k nearest neighbors.\n",
    "        knn = KNeighborsRegressor(n_neighbors=k)\n",
    "        knn.fit(train_df[train_cols], train_df[target_col])\n",
    "\n",
    "        # Make predictions using model.\n",
    "        predicted_labels = knn.predict(test_df[train_cols])\n",
    "\n",
    "        # Calculate and return RMSE.\n",
    "        mse = mean_squared_error(test_df[target_col], predicted_labels)\n",
    "        rmse = np.sqrt(mse)\n",
    "        \n",
    "        k_rmses[k] = rmse\n",
    "    return k_rmses\n",
    "\n",
    "knn_train_test(train_cols,'price',numeric_cars)\n"
   ]
  },
  {
   "cell_type": "code",
   "execution_count": 55,
   "metadata": {},
   "outputs": [
    {
     "data": {
      "text/plain": [
       "{'two best features': {5: 3589.3132622073304},\n",
       " 'three best features': {5: 3305.9401397969677},\n",
       " 'four best features': {5: 3280.3807311630976},\n",
       " 'five best features': {5: 3341.6024539726504},\n",
       " 'six best features': {5: 3628.2611882141268}}"
      ]
     },
     "execution_count": 55,
     "metadata": {},
     "output_type": "execute_result"
    }
   ],
   "source": [
    "k_rmse_results = {}\n",
    "\n",
    "two_best_features = ['horsepower', 'width']\n",
    "rmse_val = knn_train_test(two_best_features, 'price', numeric_cars)\n",
    "k_rmse_results[\"two best features\"] = rmse_val\n",
    "\n",
    "three_best_features = ['horsepower', 'width', 'curb-weight']\n",
    "rmse_val = knn_train_test(three_best_features, 'price', numeric_cars)\n",
    "k_rmse_results[\"three best features\"] = rmse_val\n",
    "\n",
    "four_best_features = ['horsepower', 'width', 'curb-weight', 'city-mpg']\n",
    "rmse_val = knn_train_test(four_best_features, 'price', numeric_cars)\n",
    "k_rmse_results[\"four best features\"] = rmse_val\n",
    "\n",
    "five_best_features = ['horsepower', 'width', 'curb-weight' , 'city-mpg' , 'highway-mpg']\n",
    "rmse_val = knn_train_test(five_best_features, 'price', numeric_cars)\n",
    "k_rmse_results[\"five best features\"] = rmse_val\n",
    "\n",
    "six_best_features = ['horsepower', 'width', 'curb-weight' , 'city-mpg' , 'highway-mpg', 'length']\n",
    "rmse_val = knn_train_test(six_best_features, 'price', numeric_cars)\n",
    "k_rmse_results[\"six best features\"] = rmse_val\n",
    "\n",
    "k_rmse_results"
   ]
  },
  {
   "cell_type": "markdown",
   "metadata": {},
   "source": [
    "# Vary hyperparameter"
   ]
  },
  {
   "cell_type": "markdown",
   "metadata": {},
   "source": [
    "For the top 3 models in the last step, vary the hyperparameter value from 1 to 25 and plot the resulting RMSE values.\n",
    "Which k value is optimal for each model? How different are the k values and what accounts for the differences?"
   ]
  },
  {
   "cell_type": "code",
   "execution_count": 57,
   "metadata": {},
   "outputs": [
    {
     "data": {
      "text/plain": [
       "{'three best features': {1: 3013.0109985241875,\n",
       "  2: 2813.2859698259972,\n",
       "  3: 3171.5852844786741,\n",
       "  4: 3182.3137417981943,\n",
       "  5: 3305.9401397969677,\n",
       "  6: 3522.5068489003761,\n",
       "  7: 3774.3772094554106,\n",
       "  8: 3978.9691240211159,\n",
       "  9: 3992.9236805888809,\n",
       "  10: 4076.2381473803043,\n",
       "  11: 4156.3883311318068,\n",
       "  12: 4201.1071338594802,\n",
       "  13: 4303.6267686132496,\n",
       "  14: 4359.6932969897016,\n",
       "  15: 4371.7711033728683,\n",
       "  16: 4394.4846551644205,\n",
       "  17: 4510.3997100574061,\n",
       "  18: 4584.3109618654862,\n",
       "  19: 4636.6262047706296,\n",
       "  20: 4664.4658478668107,\n",
       "  21: 4724.0966374282734,\n",
       "  22: 4752.5354841029139,\n",
       "  23: 4808.7033104521006,\n",
       "  24: 4858.9452710176065},\n",
       " 'four best features': {1: 2516.5892799502258,\n",
       "  2: 2811.1727257604443,\n",
       "  3: 3013.3615157930335,\n",
       "  4: 3126.2694826412612,\n",
       "  5: 3280.3807311630976,\n",
       "  6: 3479.5099401018138,\n",
       "  7: 3781.5612742414464,\n",
       "  8: 3988.8669577450623,\n",
       "  9: 4024.9986213622451,\n",
       "  10: 4042.2472261878988,\n",
       "  11: 4230.3352486840677,\n",
       "  12: 4354.0086751540612,\n",
       "  13: 4461.6266648777882,\n",
       "  14: 4468.0298450889268,\n",
       "  15: 4444.1644076771327,\n",
       "  16: 4492.0698685717889,\n",
       "  17: 4597.2622226920339,\n",
       "  18: 4615.4463167683252,\n",
       "  19: 4692.5688728042505,\n",
       "  20: 4727.8159851123819,\n",
       "  21: 4738.2330676528691,\n",
       "  22: 4778.1766872314656,\n",
       "  23: 4811.5567989100728,\n",
       "  24: 4846.5485297899286},\n",
       " 'five best features': {1: 2530.0554077602005,\n",
       "  2: 2897.1757974767684,\n",
       "  3: 3183.4597426217424,\n",
       "  4: 3168.0230415758415,\n",
       "  5: 3341.6024539726504,\n",
       "  6: 3537.5205429981911,\n",
       "  7: 3817.2904521188252,\n",
       "  8: 4004.4145296855731,\n",
       "  9: 3992.3186041830318,\n",
       "  10: 4138.7287878533352,\n",
       "  11: 4342.0528528290979,\n",
       "  12: 4416.1453810311359,\n",
       "  13: 4493.8798141857205,\n",
       "  14: 4463.5016015545707,\n",
       "  15: 4474.480783207805,\n",
       "  16: 4553.5595362768345,\n",
       "  17: 4597.001081375769,\n",
       "  18: 4655.283442648355,\n",
       "  19: 4687.9008939828218,\n",
       "  20: 4712.0229855431653,\n",
       "  21: 4755.8566258237734,\n",
       "  22: 4788.162720030673,\n",
       "  23: 4806.9233819650544,\n",
       "  24: 4879.983352195467}}"
      ]
     },
     "execution_count": 57,
     "metadata": {},
     "output_type": "execute_result"
    }
   ],
   "source": [
    "def knn_train_test(train_cols, target_col, df):\n",
    "    np.random.seed(1)\n",
    "    \n",
    "    # Randomize order of rows in data frame.\n",
    "    shuffled_index = np.random.permutation(df.index)\n",
    "    rand_df = df.reindex(shuffled_index)\n",
    "\n",
    "    # Divide number of rows in half and round.\n",
    "    last_train_row = int(len(rand_df) / 2)\n",
    "    \n",
    "    # Select the first half and set as training set.\n",
    "    # Select the second half and set as test set.\n",
    "    train_df = rand_df.iloc[0:last_train_row]\n",
    "    test_df = rand_df.iloc[last_train_row:]\n",
    "    \n",
    "    k_values = [i for i in range(1, 25)]\n",
    "    k_rmses = {}\n",
    "    \n",
    "    for k in k_values:\n",
    "        # Fit model using k nearest neighbors.\n",
    "        knn = KNeighborsRegressor(n_neighbors=k)\n",
    "        knn.fit(train_df[train_cols], train_df[target_col])\n",
    "\n",
    "        # Make predictions using model.\n",
    "        predicted_labels = knn.predict(test_df[train_cols])\n",
    "\n",
    "        # Calculate and return RMSE.\n",
    "        mse = mean_squared_error(test_df[target_col], predicted_labels)\n",
    "        rmse = np.sqrt(mse)\n",
    "        \n",
    "        k_rmses[k] = rmse\n",
    "    return k_rmses\n",
    "\n",
    "k_rmse_results = {}\n",
    "\n",
    "three_best_features = ['horsepower', 'width', 'curb-weight']\n",
    "rmse_val = knn_train_test(three_best_features, 'price', numeric_cars)\n",
    "k_rmse_results[\"three best features\"] = rmse_val\n",
    "\n",
    "four_best_features = ['horsepower', 'width', 'curb-weight', 'city-mpg']\n",
    "rmse_val = knn_train_test(four_best_features, 'price', numeric_cars)\n",
    "k_rmse_results[\"four best features\"] = rmse_val\n",
    "\n",
    "five_best_features = ['horsepower', 'width', 'curb-weight' , 'city-mpg' , 'highway-mpg']\n",
    "rmse_val = knn_train_test(five_best_features, 'price', numeric_cars)\n",
    "k_rmse_results[\"five best features\"] = rmse_val\n",
    "\n",
    "k_rmse_results"
   ]
  },
  {
   "cell_type": "code",
   "execution_count": 60,
   "metadata": {},
   "outputs": [
    {
     "data": {
      "image/png": "[encoded data removed]",
      "text/plain": [
       "<Figure size 432x288 with 1 Axes>"
      ]
     },
     "metadata": {},
     "output_type": "display_data"
    }
   ],
   "source": [
    "for  k,v  in  k_rmse_results.items():\n",
    "    x = list(v.keys())\n",
    "    y = list(v.values())\n",
    "    \n",
    "    plt.plot(x,y,label=k)\n",
    "    plt.xlabel('k value')\n",
    "    plt.ylabel('RMSE')\n",
    "    plt.legend()"
   ]
  },
  {
   "cell_type": "markdown",
   "metadata": {},
   "source": [
    "# Next steps:"
   ]
  },
  {
   "cell_type": "markdown",
   "metadata": {},
   "source": [
    "Modify the knn_train_test() function to use k-fold cross validation instead of test/train validation.\n",
    "Modify the knn_train_test() function to perform the data cleaning as well."
   ]
  },
  {
   "cell_type": "markdown",
   "metadata": {},
   "source": [
    "# k-fold cross validation \n",
    "First, we instantiate an instance of the KFold class from sklearn.model_selection:\n",
    "\n",
    "\n",
    "from sklearn.model_selection import KFold\n",
    "kf = KFold(n_splits, shuffle=False, random_state=None)\n",
    "where:\n",
    "n_splits is the number of folds you want to use,\n",
    "shuffle is used to toggle shuffling of the ordering of the observations in the dataset,\n",
    "random_state is used to specify the random seed value if shuffle is set to True.\n",
    "You'll notice here that no parameters depend on the data set at all. This is because the KFold class returns an iterator object which we use in conjunction with the cross_val_score() function, also from sklearn.model_selection. Together, these 2 functions allow us to compactly train and test using k-fold cross validation:\n",
    "\n",
    "Here are the relevant parameters for the cross_val_score function:\n",
    "from sklearn.model_selection import cross_val_score\n",
    "cross_val_score(estimator, X, Y, scoring=None, cv=None)\n",
    "\n",
    "where:\n",
    "estimator is a sklearn model that implements the fit method (e.g. instance of KNeighborsRegressor),\n",
    "X is the list or 2D array containing the features you want to train on,\n",
    "y is a list containing the values you want to predict (target column),\n",
    "scoring is a string describing the scoring criteria (list of accepted values here).\n",
    "cv describes the number of folds. \n",
    "\n",
    "Here are some examples of accepted values:\n",
    "an instance of the KFold class,\n",
    "an integer representing the number of folds.\n",
    "Depending on the scoring criteria you specify, a single total value is returned for each fold. Here's the general workflow for performing k-fold cross-validation using the classes we just described:\n",
    "\n",
    "instantiate the scikit-learn model class you want to fit,\n",
    "instantiate the KFold class and using the parameters to specify the k-fold cross-validation attributes you want,\n",
    "use the cross_val_score() function to return the scoring metric you're interested in."
   ]
  },
  {
   "cell_type": "code",
   "execution_count": 82,
   "metadata": {},
   "outputs": [],
   "source": [
    "from sklearn.model_selection import cross_val_score, KFold\n",
    "def knn_train_test(train_cols, target_col, df):\n",
    "    kf = KFold(5, shuffle=True, random_state=1)\n",
    "    knn = KNeighborsRegressor(5)\n",
    "\n",
    "    mses = cross_val_score(knn, df[train_cols], df[target_col], scoring=\"neg_mean_squared_error\", cv=kf)\n",
    "    rmses = np.sqrt(np.absolute(mses))\n",
    "    avg_rmse = np.mean(rmses)\n",
    "    return avg_rmse"
   ]
  },
  {
   "cell_type": "code",
   "execution_count": 83,
   "metadata": {},
   "outputs": [
    {
     "data": {
      "text/plain": [
       "{'three best features': 3027.7487021204315,\n",
       " 'four best features': 2931.1608893797184,\n",
       " 'five best features': 3006.1022051107061}"
      ]
     },
     "execution_count": 83,
     "metadata": {},
     "output_type": "execute_result"
    }
   ],
   "source": [
    "k_rmse_results = {}\n",
    "\n",
    "three_best_features = ['horsepower', 'width', 'curb-weight']\n",
    "rmse_val = knn_train_test(three_best_features, 'price', numeric_cars)\n",
    "k_rmse_results[\"three best features\"] = rmse_val\n",
    "\n",
    "four_best_features = ['horsepower', 'width', 'curb-weight', 'city-mpg']\n",
    "rmse_val = knn_train_test(four_best_features, 'price', numeric_cars)\n",
    "k_rmse_results[\"four best features\"] = rmse_val\n",
    "\n",
    "five_best_features = ['horsepower', 'width', 'curb-weight' , 'city-mpg' , 'highway-mpg']\n",
    "rmse_val = knn_train_test(five_best_features, 'price', numeric_cars)\n",
    "k_rmse_results[\"five best features\"] = rmse_val\n",
    "\n",
    "k_rmse_results"
   ]
  }
 ],
 "metadata": {
  "kernelspec": {
   "display_name": "Python 3",
   "language": "python",
   "name": "python3"
  },
  "language_info": {
   "codemirror_mode": {
    "name": "ipython",
    "version": 3
   },
   "file_extension": ".py",
   "mimetype": "text/x-python",
   "name": "python",
   "nbconvert_exporter": "python",
   "pygments_lexer": "ipython3",
   "version": "3.6.5"
  }
 },
 "nbformat": 4,
 "nbformat_minor": 2
}
